{
  "nbformat": 4,
  "nbformat_minor": 0,
  "metadata": {
    "colab": {
      "private_outputs": true,
      "provenance": []
    },
    "kernelspec": {
      "name": "python3",
      "display_name": "Python 3"
    },
    "language_info": {
      "name": "python"
    }
  },
  "cells": [
    {
      "cell_type": "code",
      "source": [
        "import pandas as pd\n",
        "from sklearn.linear_model import LogisticRegression\n",
        "from sklearn.metrics import classification_report, confusion_matrix\n",
        "from sklearn.preprocessing import PolynomialFeatures\n",
        "\n",
        "\n",
        "url = \"https://raw.githubusercontent.com/koroteevmv/ML_course/2023/ML2.2%20real%20classification/data/diabetes.csv\"\n",
        "data = pd.read_csv(url)\n",
        "y = data['Outcome']\n",
        "X = data.drop('Outcome', axis=1)\n",
        "\n",
        "\n",
        "logistic = LogisticRegression()\n",
        "logistic.fit(X, y)\n",
        "\n",
        "\n",
        "y_pred = logistic.predict(X)\n",
        "print(classification_report(y, y_pred))\n",
        "print(confusion_matrix(y, y_pred))\n",
        "\n",
        "poly = PolynomialFeatures(degree=2)\n",
        "X_poly = poly.fit_transform(X)\n",
        "\n",
        "polynomial_logistic = LogisticRegression()\n",
        "polynomial_logistic.fit(X_poly, y)\n",
        "\n",
        "y_pred_poly = polynomial_logistic.predict(X_poly)\n",
        "print(classification_report(y, y_pred_poly))\n",
        "print(confusion_matrix(y, y_pred_poly))\n"
      ],
      "metadata": {
        "id": "GivtUdpOADjf"
      },
      "execution_count": null,
      "outputs": []
    },
    {
      "cell_type": "code",
      "source": [
        "print(logistic.score(X, y))\n",
        "logistic = LogisticRegression(C=4, max_iter=200000, solver='liblinear')\n",
        "logistic.fit(X, y)\n",
        "print(logistic.score(X, y))"
      ],
      "metadata": {
        "id": "Pmk6HskWApGi"
      },
      "execution_count": null,
      "outputs": []
    },
    {
      "cell_type": "code",
      "source": [
        "from sklearn.preprocessing import StandardScaler\n",
        "from sklearn.metrics import classification_report, confusion_matrix\n",
        "from sklearn.svm import SVC\n",
        "from sklearn.neighbors import KNeighborsClassifier\n",
        "from sklearn.neural_network import MLPClassifier\n",
        "from sklearn.tree import DecisionTreeClassifier\n",
        "from sklearn.naive_bayes import GaussianNB\n",
        "from sklearn.linear_model import PassiveAggressiveClassifier, RidgeClassifier\n",
        "from sklearn.ensemble import RandomForestClassifier, BaggingClassifier\n",
        "\n",
        "from sklearn.datasets import load_iris\n",
        "\n",
        "models = {\n",
        "        \"SVM (Linear Kernel)\": SVC(kernel='linear'),\n",
        "        \"SVM (RBF Kernel)\": SVC(kernel='rbf'),\n",
        "        \"SVM (Polynomial Kernel)\": SVC(kernel='poly'),\n",
        "        \"K-Nearest Neighbors\": KNeighborsClassifier(),\n",
        "        \"Multilayer Perceptron\": MLPClassifier(max_iter=1000),\n",
        "        \"Decision Tree\": DecisionTreeClassifier(),\n",
        "        \"Gaussian Naive Bayes\": GaussianNB(),\n",
        "        \"Passive Aggressive Classifier\": PassiveAggressiveClassifier(),\n",
        "        \"Ridge Classifier\": RidgeClassifier(),\n",
        "        \"Random Forest\": RandomForestClassifier(),\n",
        "        \"Bagging\": BaggingClassifier()\n",
        "}\n",
        "\n",
        "results = {}\n",
        "\n",
        "def fit_evaluate(model,X,y):\n",
        "    for name, model in models.items():\n",
        "        model.fit(X, y)\n",
        "        y_pred = model.predict(X)\n",
        "        accuracy = model.score(X, y)\n",
        "        report = classification_report(y, y_pred)\n",
        "        confusion = confusion_matrix(y, y_pred)\n",
        "        results = (accuracy, report, confusion)\n",
        "\n",
        "    return results\n",
        "\n",
        "iris = load_iris()\n",
        "X_iris = iris.data\n",
        "y_iris = iris.target\n",
        "\n",
        "for name,model_name in models.items():\n",
        "  accuracy, report, confusion = fit_evaluate(model_name,X_iris,y_iris)\n",
        "  print(f'Name:{name} , accuracy:{accuracy}')\n"
      ],
      "metadata": {
        "id": "cb0MGmsgB3oW"
      },
      "execution_count": null,
      "outputs": []
    }
  ]
}